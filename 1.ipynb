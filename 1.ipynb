{
 "cells": [
  {
   "cell_type": "code",
   "execution_count": null,
   "metadata": {},
   "outputs": [],
   "source": [
    "from tabula import convert_into\n",
    "from tabula import read_pdf\n",
    "from PyPDF2 import PdfFileWriter, PdfFileReader\n",
    "import os\n",
    "import pandas as pd\n",
    "from tqdm import tqdm, tqdm_notebook,trange"
   ]
  },
  {
   "cell_type": "markdown",
   "metadata": {},
   "source": [
    "    df = read_pdf('ALB.pdf', pandas_options = {'header': None}, encoding = 'utf-8')\n",
    "\n",
    "    convert_into('ALB.pdf', 'test.tsv', output_format='tsv')"
   ]
  },
  {
   "cell_type": "code",
   "execution_count": null,
   "metadata": {},
   "outputs": [],
   "source": [
    "main_path = os.curdir\n",
    "page_save_path = main_path+'\\\\'+'All_pages'\n",
    "list_of_folders = os.listdir(main_path)\n",
    "page_save_path_CSV = main_path+'\\\\'+'All_pages_CSV'\n",
    "\n",
    "for region in list_of_folders:\n",
    "    if region != 'All_pages':\n",
    "        list_of_countries_in_region = os.listdir(main_path+'\\\\'+region)\n",
    "        for country in list_of_countries_in_region:\n",
    "            current_file_path = main_path+'\\\\'+region+'\\\\'+country\n",
    "            with open(current_file_path, 'rb') as pdf_f:\n",
    "                infile = PdfFileReader(pdf_f)\n",
    "                for i in range(infile.getNumPages()):\n",
    "                    p = infile.getPage(i)\n",
    "                    outfile = PdfFileWriter()\n",
    "                    outfile.addPage(p)\n",
    "                    final_file_path = (page_save_path+'\\\\'+region+'_'+\n",
    "                                       country+'_'+f'page-{i}.pdf')\n",
    "                    with open(final_file_path, 'wb') as f:\n",
    "                        outfile.write(f)"
   ]
  },
  {
   "cell_type": "code",
   "execution_count": null,
   "metadata": {},
   "outputs": [],
   "source": [
    "t = len(os.listdir(page_save_path))\n",
    "with tqdm_notebook(total=t) as pbar:\n",
    "    for i in os.listdir(page_save_path):\n",
    "        convert_into(page_save_path+'\\\\'+i, page_save_path_CSV+\n",
    "                     '\\\\'+i+'_.tsv', output_format='tsv')\n",
    "        pbar.update()"
   ]
  },
  {
   "cell_type": "code",
   "execution_count": null,
   "metadata": {},
   "outputs": [],
   "source": [
    "csv_dir = os.listdir(page_save_path_CSV)\n",
    "t = len(csv_dir)\n",
    "big_df = pd.DataFrame()\n",
    "big_prob=[]\n",
    "small_prob=[]\n",
    "u_error=[]\n",
    "q=0\n",
    "with tqdm_notebook(total=t) as pbar:\n",
    "    for f in csv_dir:\n",
    "        try:\n",
    "            df = pd.read_csv(page_save_path_CSV+'\\\\'+\n",
    "                             f, sep='\\t',encoding='utf-8')\n",
    "            big_df = pd.concat([big_df, df])\n",
    "            q+=1\n",
    "        except:\n",
    "            u_error.append(f)\n",
    "        pbar.update()\n",
    "\n",
    "big_df.to_csv('big_t.csv')\n",
    "with open('u_error.txt', 'w') as f:\n",
    "    f.write(' '.join(u_error))"
   ]
  }
 ],
 "metadata": {
  "kernelspec": {
   "display_name": "Python 3",
   "language": "python",
   "name": "python3"
  },
  "language_info": {
   "codemirror_mode": {
    "name": "ipython",
    "version": 3
   },
   "file_extension": ".py",
   "mimetype": "text/x-python",
   "name": "python",
   "nbconvert_exporter": "python",
   "pygments_lexer": "ipython3",
   "version": "3.6.4"
  }
 },
 "nbformat": 4,
 "nbformat_minor": 2
}
